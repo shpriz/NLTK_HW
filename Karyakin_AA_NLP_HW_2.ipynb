{
 "cells": [
  {
   "cell_type": "code",
   "execution_count": 4,
   "id": "b9b915e9-0814-4de7-a6b6-02ebbea6f917",
   "metadata": {},
   "outputs": [
    {
     "name": "stdout",
     "output_type": "stream",
     "text": [
      "Python 3.11.9\n"
     ]
    }
   ],
   "source": [
    "!python --version"
   ]
  },
  {
   "cell_type": "code",
   "execution_count": 5,
   "id": "d9af5f7f-5d84-44e5-aed1-7d746bc4b992",
   "metadata": {},
   "outputs": [
    {
     "name": "stderr",
     "output_type": "stream",
     "text": [
      "[nltk_data] Downloading package punkt to\n",
      "[nltk_data]     C:\\Users\\shpri\\AppData\\Roaming\\nltk_data...\n",
      "[nltk_data]   Package punkt is already up-to-date!\n"
     ]
    }
   ],
   "source": [
    "import pandas as pd\n",
    "import numpy as np\n",
    "import re\n",
    "from sklearn.metrics import *\n",
    "from sklearn.model_selection import train_test_split\n",
    "from nltk import word_tokenize\n",
    "from sklearn.linear_model import LogisticRegression\n",
    "from sklearn.feature_extraction.text import CountVectorizer, TfidfVectorizer, HashingVectorizer\n",
    "from collections import Counter\n",
    "from string import punctuation\n",
    "import matplotlib.pyplot as plt\n",
    "%matplotlib inline\n",
    "\n",
    "\n",
    "import nltk\n",
    "nltk.download('punkt')\n",
    "\n",
    "from multiprocessing import Pool, freeze_support, Queue, current_process\n",
    "from tqdm import tqdm\n",
    "tqdm.pandas(desc=\"Processing: \")\n"
   ]
  },
  {
   "cell_type": "code",
   "execution_count": 6,
   "id": "fdcdfc64-3099-45b0-b211-91f2c82787fb",
   "metadata": {},
   "outputs": [],
   "source": [
    "pd.set_option('display.max_columns', None)\n",
    "pd.set_option('display.expand_frame_repr', None)\n",
    "pd.set_option('max_colwidth', 800)"
   ]
  },
  {
   "cell_type": "code",
   "execution_count": 7,
   "id": "8b33a259-2f0b-40ff-a057-ea2bc63cad30",
   "metadata": {},
   "outputs": [],
   "source": [
    "# считываем данные и заполняем общий датасет\n",
    "\n",
    "positive = pd.read_csv('data/positive.csv', sep=';', usecols=[3], names=['text'])\n",
    "positive['label'] = ['positive'] * len(positive)\n",
    "negative = pd.read_csv('data/negative.csv', sep=';', usecols=[3], names=['text'])\n",
    "negative['label'] = ['negative'] * len(negative)\n",
    "\n",
    "df = pd.concat([positive, negative], axis=0).reset_index(drop=True)\n"
   ]
  },
  {
   "cell_type": "code",
   "execution_count": 8,
   "id": "57d685e0-e4fc-4a85-b27d-fc21b71d1759",
   "metadata": {},
   "outputs": [
    {
     "data": {
      "text/html": [
       "<div>\n",
       "<style scoped>\n",
       "    .dataframe tbody tr th:only-of-type {\n",
       "        vertical-align: middle;\n",
       "    }\n",
       "\n",
       "    .dataframe tbody tr th {\n",
       "        vertical-align: top;\n",
       "    }\n",
       "\n",
       "    .dataframe thead th {\n",
       "        text-align: right;\n",
       "    }\n",
       "</style>\n",
       "<table border=\"1\" class=\"dataframe\">\n",
       "  <thead>\n",
       "    <tr style=\"text-align: right;\">\n",
       "      <th></th>\n",
       "      <th>text</th>\n",
       "      <th>label</th>\n",
       "    </tr>\n",
       "  </thead>\n",
       "  <tbody>\n",
       "    <tr>\n",
       "      <th>0</th>\n",
       "      <td>@first_timee хоть я и школота, но поверь, у нас то же самое :D общество профилирующий предмет типа)</td>\n",
       "      <td>positive</td>\n",
       "    </tr>\n",
       "    <tr>\n",
       "      <th>1</th>\n",
       "      <td>Да, все-таки он немного похож на него. Но мой мальчик все равно лучше:D</td>\n",
       "      <td>positive</td>\n",
       "    </tr>\n",
       "    <tr>\n",
       "      <th>2</th>\n",
       "      <td>RT @KatiaCheh: Ну ты идиотка) я испугалась за тебя!!!</td>\n",
       "      <td>positive</td>\n",
       "    </tr>\n",
       "    <tr>\n",
       "      <th>3</th>\n",
       "      <td>RT @digger2912: \"Кто то в углу сидит и погибает от голода, а мы ещё 2 порции взяли, хотя уже и так жрать не хотим\" :DD http://t.co/GqG6iuE2…</td>\n",
       "      <td>positive</td>\n",
       "    </tr>\n",
       "    <tr>\n",
       "      <th>4</th>\n",
       "      <td>@irina_dyshkant Вот что значит страшилка :D\\nНо блин,посмотрев все части,у тебя создастся ощущение,что авторы курили что-то :D</td>\n",
       "      <td>positive</td>\n",
       "    </tr>\n",
       "  </tbody>\n",
       "</table>\n",
       "</div>"
      ],
      "text/plain": [
       "                                                                                                                                           text     label\n",
       "0                                           @first_timee хоть я и школота, но поверь, у нас то же самое :D общество профилирующий предмет типа)  positive\n",
       "1                                                                       Да, все-таки он немного похож на него. Но мой мальчик все равно лучше:D  positive\n",
       "2                                                                                         RT @KatiaCheh: Ну ты идиотка) я испугалась за тебя!!!  positive\n",
       "3  RT @digger2912: \"Кто то в углу сидит и погибает от голода, а мы ещё 2 порции взяли, хотя уже и так жрать не хотим\" :DD http://t.co/GqG6iuE2…  positive\n",
       "4                @irina_dyshkant Вот что значит страшилка :D\\nНо блин,посмотрев все части,у тебя создастся ощущение,что авторы курили что-то :D  positive"
      ]
     },
     "execution_count": 8,
     "metadata": {},
     "output_type": "execute_result"
    }
   ],
   "source": [
    "df.head()"
   ]
  },
  {
   "cell_type": "code",
   "execution_count": 9,
   "id": "ec69a9a8-d277-478d-a74d-f885211b27f6",
   "metadata": {},
   "outputs": [],
   "source": [
    "def delete_pattern(text, pattern):\n",
    "  return re.sub(pattern, ' ', text)\n"
   ]
  },
  {
   "cell_type": "code",
   "execution_count": 10,
   "id": "7a7efea0-8d71-464d-bbca-5fa160f6650a",
   "metadata": {},
   "outputs": [
    {
     "name": "stderr",
     "output_type": "stream",
     "text": [
      "Processing: 100%|██████████████████████████████████████████████████████████████████| 226834/226834 [00:00<00:00, 509732.57it/s]\n",
      "Processing: 100%|██████████████████████████████████████████████████████████████████| 226834/226834 [00:01<00:00, 176938.28it/s]\n",
      "Processing: 100%|███████████████████████████████████████████████████████████████████| 226834/226834 [00:02<00:00, 84074.71it/s]\n",
      "Processing: 100%|███████████████████████████████████████████████████████████████████| 226834/226834 [00:02<00:00, 82425.12it/s]\n",
      "Processing: 100%|██████████████████████████████████████████████████████████████████| 226834/226834 [00:00<00:00, 606493.21it/s]\n"
     ]
    }
   ],
   "source": [
    "df['text'] = df['text'].progress_apply(lambda x: x.lower())\n",
    "# Замена пунктуации на пробелы\n",
    "pattern_for_punctuation = r'[^\\w\\s]'\n",
    "df['text'] = df['text'].progress_apply(lambda x: delete_pattern(x, pattern_for_punctuation))\n",
    "# Замена спец. символов на пробелы \n",
    "pattern_for_special_symb = r'[^a-zA-Z0-9]'\n",
    "df['text'] = df['text'].progress_apply(lambda x: delete_pattern(x, pattern_for_special_symb))\n",
    "# Замена чисел на пробелы \n",
    "pattern_for_numbers = r'[^a-zA-Z]'\n",
    "df['text'] = df['text'].progress_apply(lambda x: delete_pattern(x, pattern_for_numbers))\n",
    "# Удаление лишних пробелов\n",
    "df['text'] = df['text'].progress_apply(lambda x: ' '.join(x.split()))"
   ]
  },
  {
   "cell_type": "code",
   "execution_count": 11,
   "id": "2ff90ec6-9a3a-45f3-aa47-acb912d238e7",
   "metadata": {},
   "outputs": [],
   "source": [
    "x_train, x_test, y_train, y_test = train_test_split(df.text, df.label, \n",
    "                                                    test_size=0.25,\n",
    "                                                    stratify=df.label)"
   ]
  },
  {
   "cell_type": "code",
   "execution_count": 12,
   "id": "ea6ff5c1-959e-4247-ac1c-f5c1cb0137bc",
   "metadata": {},
   "outputs": [],
   "source": [
    "x_train = x_train.reset_index(drop=True)\n",
    "x_test = x_test.reset_index(drop=True)\n",
    "y_train = y_train.reset_index(drop=True)\n",
    "y_test = y_test.reset_index(drop=True)"
   ]
  },
  {
   "cell_type": "code",
   "execution_count": 13,
   "id": "bc02404e-44d5-4cb0-be4a-4066588f7ded",
   "metadata": {},
   "outputs": [],
   "source": [
    "y_train_word = y_train.copy()\n",
    "y_train = [1 if elem == 'positive' else 0 for elem in y_train]\n",
    "y_test_word = y_test.copy()\n",
    "y_test = [1 if elem == 'positive' else 0 for elem in y_test]"
   ]
  },
  {
   "cell_type": "code",
   "execution_count": 14,
   "id": "3c7f4b0a-d86c-4b76-a7cd-4819d273fbdb",
   "metadata": {},
   "outputs": [
    {
     "data": {
      "text/plain": [
       "'!\"#$%&\\'()*+,-./:;<=>?@[\\\\]^_`{|}~'"
      ]
     },
     "execution_count": 14,
     "metadata": {},
     "output_type": "execute_result"
    }
   ],
   "source": [
    "punctuation"
   ]
  },
  {
   "cell_type": "code",
   "execution_count": 15,
   "id": "5fc87dbd-855f-40fe-8917-4f123675e9b5",
   "metadata": {},
   "outputs": [
    {
     "name": "stdout",
     "output_type": "stream",
     "text": [
      "467845\n"
     ]
    },
    {
     "data": {
      "text/plain": [
       "['first', 'timee', 'd', 'd', 'rt', 'katiacheh', 'rt', 'digger', 'dd', 'http']"
      ]
     },
     "execution_count": 15,
     "metadata": {},
     "output_type": "execute_result"
    }
   ],
   "source": [
    "corpus = [token for tweet in df.text for token in word_tokenize(tweet) if token not in punctuation]\n",
    "print(len(corpus))\n",
    "corpus[:10]"
   ]
  },
  {
   "cell_type": "code",
   "execution_count": 16,
   "id": "2d66f2b2-bbb4-4847-aaca-fcebcebce404",
   "metadata": {},
   "outputs": [
    {
     "data": {
      "text/plain": [
       "[('rt', 38168),\n",
       " ('t', 34166),\n",
       " ('http', 33076),\n",
       " ('co', 33071),\n",
       " ('d', 19449),\n",
       " ('o', 3501),\n",
       " ('a', 2299),\n",
       " ('s', 1603),\n",
       " ('i', 1553),\n",
       " ('dd', 1311)]"
      ]
     },
     "execution_count": 16,
     "metadata": {},
     "output_type": "execute_result"
    }
   ],
   "source": [
    "freq_dict = Counter(corpus)\n",
    "freq_dict_sorted= sorted(freq_dict.items(), key=lambda x: -x[1])\n",
    "list(freq_dict_sorted)[:10]"
   ]
  },
  {
   "cell_type": "code",
   "execution_count": 17,
   "id": "197c2a1d-c183-45db-a9cb-2c1e19cbbafe",
   "metadata": {},
   "outputs": [
    {
     "data": {
      "image/png": "[encoded data removed]",
      "text/plain": [
       "<Figure size 640x480 with 1 Axes>"
      ]
     },
     "metadata": {},
     "output_type": "display_data"
    }
   ],
   "source": [
    "first_100_freqs = [freq for word, freq in freq_dict_sorted[:100]]\n",
    "plt.plot(first_100_freqs)\n",
    "plt.show()"
   ]
  },
  {
   "cell_type": "code",
   "execution_count": 18,
   "id": "fa9880ce-c68c-4595-a7c5-ea3f246c21d0",
   "metadata": {},
   "outputs": [
    {
     "data": {
      "image/png": "[encoded data removed]",
      "text/plain": [
       "<Figure size 640x480 with 1 Axes>"
      ]
     },
     "metadata": {},
     "output_type": "display_data"
    }
   ],
   "source": [
    "low_freq = [freq for word, freq in freq_dict_sorted if freq < 10]\n",
    "plt.plot(low_freq)\n",
    "plt.show()"
   ]
  },
  {
   "cell_type": "code",
   "execution_count": 19,
   "id": "9dda5ad2-807f-4146-af06-f8b1999cf82f",
   "metadata": {},
   "outputs": [
    {
     "data": {
      "image/png": "[encoded data removed]",
      "text/plain": [
       "<Figure size 640x480 with 1 Axes>"
      ]
     },
     "metadata": {},
     "output_type": "display_data"
    }
   ],
   "source": [
    "mean_freq = [freq for word, freq in freq_dict_sorted[100:-len(low_freq)]]\n",
    "plt.plot(mean_freq)\n",
    "plt.show()"
   ]
  },
  {
   "cell_type": "code",
   "execution_count": 20,
   "id": "322f0440-f01b-4ad8-bcbb-14f325e68be6",
   "metadata": {},
   "outputs": [
    {
     "data": {
      "text/plain": [
       "112197"
      ]
     },
     "execution_count": 20,
     "metadata": {},
     "output_type": "execute_result"
    }
   ],
   "source": [
    "len(freq_dict_sorted)"
   ]
  },
  {
   "cell_type": "code",
   "execution_count": null,
   "id": "530c395c-19f7-4aaf-9e8f-df6d288459d6",
   "metadata": {},
   "outputs": [],
   "source": []
  },
  {
   "cell_type": "code",
   "execution_count": 21,
   "id": "d9ac3f86-8e75-48d5-a80d-e9dc171e0d28",
   "metadata": {},
   "outputs": [],
   "source": [
    "vectorizer_high_freq = TfidfVectorizer(vocabulary=list(dict(freq_dict_sorted[:100]).keys()))\n",
    "\n",
    "# Создаем the Bag-of-Words модель\n",
    "bag_of_words_high_freq = vectorizer_high_freq.fit_transform(x_train.values)\n",
    "\n",
    "# Отобразим Bag-of-Words модель как DataFrame\n",
    "feature_names_high_freq = vectorizer_high_freq.get_feature_names_out()\n",
    "df_high_freq_train = pd.DataFrame(bag_of_words_high_freq.toarray(), columns = feature_names_high_freq)\n",
    "bag_of_words_high_freq_test = vectorizer_high_freq.transform(x_test.values)\n",
    "df_high_freq_test = pd.DataFrame(bag_of_words_high_freq_test.toarray(), columns = feature_names_high_freq)"
   ]
  },
  {
   "cell_type": "code",
   "execution_count": 22,
   "id": "de4e1899-a198-465a-a590-5e6084c3b341",
   "metadata": {},
   "outputs": [],
   "source": [
    "classifier_high_freq = LogisticRegression(solver='lbfgs', max_iter=1000)\n",
    "classifier_high_freq.fit(df_high_freq_train, y_train)\n",
    "predictions_high_freq_train = classifier_high_freq.predict(df_high_freq_train)\n",
    "predictions_high_freq_test = classifier_high_freq.predict(df_high_freq_test)"
   ]
  },
  {
   "cell_type": "code",
   "execution_count": 23,
   "id": "c841b1c0-a4e3-4146-93b1-cd22ff2d1a25",
   "metadata": {},
   "outputs": [
    {
     "name": "stdout",
     "output_type": "stream",
     "text": [
      "              precision    recall  f1-score   support\n",
      "\n",
      "           0       0.77      0.54      0.64    118888\n",
      "           1       0.37      0.62      0.47     51237\n",
      "\n",
      "    accuracy                           0.57    170125\n",
      "   macro avg       0.57      0.58      0.55    170125\n",
      "weighted avg       0.65      0.57      0.59    170125\n",
      "\n"
     ]
    }
   ],
   "source": [
    "print(classification_report(predictions_high_freq_train, y_train))"
   ]
  },
  {
   "cell_type": "code",
   "execution_count": 24,
   "id": "b8042aee-056f-4b3b-b46d-f6be77c83aac",
   "metadata": {},
   "outputs": [
    {
     "name": "stdout",
     "output_type": "stream",
     "text": [
      "              precision    recall  f1-score   support\n",
      "\n",
      "           0       0.77      0.55      0.64     39615\n",
      "           1       0.37      0.63      0.47     17094\n",
      "\n",
      "    accuracy                           0.57     56709\n",
      "   macro avg       0.57      0.59      0.55     56709\n",
      "weighted avg       0.65      0.57      0.59     56709\n",
      "\n"
     ]
    }
   ],
   "source": [
    "print(classification_report(predictions_high_freq_test, y_test))"
   ]
  },
  {
   "cell_type": "code",
   "execution_count": 25,
   "id": "83884056-da6d-43bb-9383-79f9c882c6b8",
   "metadata": {},
   "outputs": [
    {
     "ename": "MemoryError",
     "evalue": "Unable to allocate 138. GiB for an array with shape (170125, 108611) and data type float64",
     "output_type": "error",
     "traceback": [
      "\u001b[1;31m---------------------------------------------------------------------------\u001b[0m",
      "\u001b[1;31mMemoryError\u001b[0m                               Traceback (most recent call last)",
      "Cell \u001b[1;32mIn[25], line 8\u001b[0m\n\u001b[0;32m      6\u001b[0m \u001b[38;5;66;03m# Отобразим Bag-of-Words модель как DataFrame\u001b[39;00m\n\u001b[0;32m      7\u001b[0m feature_names_low_freq \u001b[38;5;241m=\u001b[39m vectorizer_low_freq\u001b[38;5;241m.\u001b[39mget_feature_names_out()\n\u001b[1;32m----> 8\u001b[0m df_low_freq_train \u001b[38;5;241m=\u001b[39m pd\u001b[38;5;241m.\u001b[39mDataFrame(bag_of_words_low_freq\u001b[38;5;241m.\u001b[39mtoarray(\u001b[38;5;124m'\u001b[39m\u001b[38;5;124mC\u001b[39m\u001b[38;5;124m'\u001b[39m), columns \u001b[38;5;241m=\u001b[39m feature_names_low_freq)\n\u001b[0;32m      9\u001b[0m bag_of_words_low_freq_test \u001b[38;5;241m=\u001b[39m vectorizer_low_freq\u001b[38;5;241m.\u001b[39mtransform(x_test\u001b[38;5;241m.\u001b[39mvalues)\n\u001b[0;32m     10\u001b[0m df_low_freq_test \u001b[38;5;241m=\u001b[39m pd\u001b[38;5;241m.\u001b[39mDataFrame(bag_of_words_low_freq_test\u001b[38;5;241m.\u001b[39mtoarray(), columns \u001b[38;5;241m=\u001b[39m feature_names_low_freq)\n",
      "File \u001b[1;32m~\\miniconda3\\envs\\gbenv\\Lib\\site-packages\\scipy\\sparse\\_compressed.py:1106\u001b[0m, in \u001b[0;36m_cs_matrix.toarray\u001b[1;34m(self, order, out)\u001b[0m\n\u001b[0;32m   1104\u001b[0m \u001b[38;5;28;01mif\u001b[39;00m out \u001b[38;5;129;01mis\u001b[39;00m \u001b[38;5;28;01mNone\u001b[39;00m \u001b[38;5;129;01mand\u001b[39;00m order \u001b[38;5;129;01mis\u001b[39;00m \u001b[38;5;28;01mNone\u001b[39;00m:\n\u001b[0;32m   1105\u001b[0m     order \u001b[38;5;241m=\u001b[39m \u001b[38;5;28mself\u001b[39m\u001b[38;5;241m.\u001b[39m_swap(\u001b[38;5;124m'\u001b[39m\u001b[38;5;124mcf\u001b[39m\u001b[38;5;124m'\u001b[39m)[\u001b[38;5;241m0\u001b[39m]\n\u001b[1;32m-> 1106\u001b[0m out \u001b[38;5;241m=\u001b[39m \u001b[38;5;28mself\u001b[39m\u001b[38;5;241m.\u001b[39m_process_toarray_args(order, out)\n\u001b[0;32m   1107\u001b[0m \u001b[38;5;28;01mif\u001b[39;00m \u001b[38;5;129;01mnot\u001b[39;00m (out\u001b[38;5;241m.\u001b[39mflags\u001b[38;5;241m.\u001b[39mc_contiguous \u001b[38;5;129;01mor\u001b[39;00m out\u001b[38;5;241m.\u001b[39mflags\u001b[38;5;241m.\u001b[39mf_contiguous):\n\u001b[0;32m   1108\u001b[0m     \u001b[38;5;28;01mraise\u001b[39;00m \u001b[38;5;167;01mValueError\u001b[39;00m(\u001b[38;5;124m'\u001b[39m\u001b[38;5;124mOutput array must be C or F contiguous\u001b[39m\u001b[38;5;124m'\u001b[39m)\n",
      "File \u001b[1;32m~\\miniconda3\\envs\\gbenv\\Lib\\site-packages\\scipy\\sparse\\_base.py:1327\u001b[0m, in \u001b[0;36m_spbase._process_toarray_args\u001b[1;34m(self, order, out)\u001b[0m\n\u001b[0;32m   1325\u001b[0m     \u001b[38;5;28;01mreturn\u001b[39;00m out\n\u001b[0;32m   1326\u001b[0m \u001b[38;5;28;01melse\u001b[39;00m:\n\u001b[1;32m-> 1327\u001b[0m     \u001b[38;5;28;01mreturn\u001b[39;00m np\u001b[38;5;241m.\u001b[39mzeros(\u001b[38;5;28mself\u001b[39m\u001b[38;5;241m.\u001b[39mshape, dtype\u001b[38;5;241m=\u001b[39m\u001b[38;5;28mself\u001b[39m\u001b[38;5;241m.\u001b[39mdtype, order\u001b[38;5;241m=\u001b[39morder)\n",
      "\u001b[1;31mMemoryError\u001b[0m: Unable to allocate 138. GiB for an array with shape (170125, 108611) and data type float64"
     ]
    }
   ],
   "source": [
    "vectorizer_low_freq = TfidfVectorizer(vocabulary=list(dict(freq_dict_sorted[-len(low_freq):]).keys()))\n",
    "\n",
    "# Создаем the Bag-of-Words модель\n",
    "bag_of_words_low_freq = vectorizer_low_freq.fit_transform(x_train.values)\n",
    "\n",
    "# Отобразим Bag-of-Words модель как DataFrame\n",
    "feature_names_low_freq = vectorizer_low_freq.get_feature_names_out()\n",
    "df_low_freq_train = pd.DataFrame(bag_of_words_low_freq.toarray('C'), columns = feature_names_low_freq)\n",
    "bag_of_words_low_freq_test = vectorizer_low_freq.transform(x_test.values)\n",
    "df_low_freq_test = pd.DataFrame(bag_of_words_low_freq_test.toarray(), columns = feature_names_low_freq)"
   ]
  },
  {
   "cell_type": "code",
   "execution_count": null,
   "id": "cba43d29-8c05-4ccd-be7c-93cb8a16b31a",
   "metadata": {},
   "outputs": [],
   "source": []
  },
  {
   "cell_type": "code",
   "execution_count": 27,
   "id": "2e7f18f3-1d3e-4d18-af73-a5598b2e4fe7",
   "metadata": {},
   "outputs": [],
   "source": [
    "vectorizer_mean_freq = TfidfVectorizer(vocabulary=list(dict(freq_dict_sorted[100:-len(low_freq)]).keys()))\n",
    "\n",
    "# Создаем the Bag-of-Words модель\n",
    "bag_of_words_mean_freq = vectorizer_mean_freq.fit_transform(x_train.values)\n",
    "\n",
    "# Отобразим Bag-of-Words модель как DataFrame\n",
    "feature_names_mean_freq = vectorizer_mean_freq.get_feature_names_out()\n",
    "df_mean_freq_train = pd.DataFrame(bag_of_words_mean_freq.toarray(), columns = feature_names_mean_freq)\n",
    "bag_of_words_mean_freq_test = vectorizer_mean_freq.transform(x_test.values)\n",
    "df_mean_freq_test = pd.DataFrame(bag_of_words_mean_freq_test.toarray(), columns = feature_names_mean_freq)"
   ]
  },
  {
   "cell_type": "code",
   "execution_count": 28,
   "id": "0b5fcece-520f-465f-a25a-62810118fe44",
   "metadata": {},
   "outputs": [],
   "source": [
    "classifier_mean_freq = LogisticRegression(solver='lbfgs', max_iter=1000)\n",
    "classifier_mean_freq.fit(df_mean_freq_train, y_train)\n",
    "predictions_mean_freq_train = classifier_mean_freq.predict(df_mean_freq_train)\n",
    "predictions_mean_freq_test = classifier_mean_freq.predict(df_mean_freq_test)"
   ]
  },
  {
   "cell_type": "code",
   "execution_count": 29,
   "id": "fbf30899-8caf-4d09-8075-f8d4a2754ac8",
   "metadata": {},
   "outputs": [
    {
     "name": "stdout",
     "output_type": "stream",
     "text": [
      "              precision    recall  f1-score   support\n",
      "\n",
      "           0       0.89      0.54      0.67    138396\n",
      "           1       0.26      0.70      0.38     31729\n",
      "\n",
      "    accuracy                           0.57    170125\n",
      "   macro avg       0.57      0.62      0.52    170125\n",
      "weighted avg       0.77      0.57      0.61    170125\n",
      "\n"
     ]
    }
   ],
   "source": [
    "print(classification_report(predictions_mean_freq_train, y_train))"
   ]
  },
  {
   "cell_type": "code",
   "execution_count": 30,
   "id": "6d843007-9264-4aa1-afb1-2d453e236e2b",
   "metadata": {},
   "outputs": [
    {
     "name": "stdout",
     "output_type": "stream",
     "text": [
      "              precision    recall  f1-score   support\n",
      "\n",
      "           0       0.87      0.53      0.66     46210\n",
      "           1       0.24      0.66      0.35     10499\n",
      "\n",
      "    accuracy                           0.55     56709\n",
      "   macro avg       0.56      0.59      0.51     56709\n",
      "weighted avg       0.76      0.55      0.60     56709\n",
      "\n"
     ]
    }
   ],
   "source": [
    "print(classification_report(predictions_mean_freq_test, y_test))"
   ]
  },
  {
   "cell_type": "code",
   "execution_count": 31,
   "id": "a53de6b6-284b-46a1-9fc4-7fa5a4398079",
   "metadata": {},
   "outputs": [],
   "source": [
    "df_feature_importance = pd.DataFrame({'feature': list(classifier_mean_freq.feature_names_in_),\n",
    "                                      'weight': list(classifier_mean_freq.coef_[0]),\n",
    "                                      'abs_weight': [abs(elem) for elem in list(classifier_mean_freq.coef_[0])]})"
   ]
  },
  {
   "cell_type": "code",
   "execution_count": null,
   "id": "55901f79-3aa2-4b36-9331-0b844718904a",
   "metadata": {},
   "outputs": [],
   "source": [
    "df_feature_importance = df_feature_importance.sort_values(by='abs_weight', ascending=False)\n"
   ]
  },
  {
   "cell_type": "code",
   "execution_count": 32,
   "id": "1fcffd64-8a10-44ab-b912-5211b928a42d",
   "metadata": {},
   "outputs": [
    {
     "name": "stdout",
     "output_type": "stream",
     "text": [
      "Признаки с наибольшей значимостью\n"
     ]
    },
    {
     "data": {
      "text/html": [
       "<div>\n",
       "<style scoped>\n",
       "    .dataframe tbody tr th:only-of-type {\n",
       "        vertical-align: middle;\n",
       "    }\n",
       "\n",
       "    .dataframe tbody tr th {\n",
       "        vertical-align: top;\n",
       "    }\n",
       "\n",
       "    .dataframe thead th {\n",
       "        text-align: right;\n",
       "    }\n",
       "</style>\n",
       "<table border=\"1\" class=\"dataframe\">\n",
       "  <thead>\n",
       "    <tr style=\"text-align: right;\">\n",
       "      <th></th>\n",
       "      <th>feature</th>\n",
       "      <th>weight</th>\n",
       "      <th>abs_weight</th>\n",
       "    </tr>\n",
       "  </thead>\n",
       "  <tbody>\n",
       "    <tr>\n",
       "      <th>0</th>\n",
       "      <td>styles</td>\n",
       "      <td>0.447706</td>\n",
       "      <td>0.447706</td>\n",
       "    </tr>\n",
       "    <tr>\n",
       "      <th>1</th>\n",
       "      <td>olga</td>\n",
       "      <td>0.438249</td>\n",
       "      <td>0.438249</td>\n",
       "    </tr>\n",
       "    <tr>\n",
       "      <th>2</th>\n",
       "      <td>na</td>\n",
       "      <td>0.547345</td>\n",
       "      <td>0.547345</td>\n",
       "    </tr>\n",
       "    <tr>\n",
       "      <th>3</th>\n",
       "      <td>green</td>\n",
       "      <td>-0.432102</td>\n",
       "      <td>0.432102</td>\n",
       "    </tr>\n",
       "    <tr>\n",
       "      <th>4</th>\n",
       "      <td>sobchak</td>\n",
       "      <td>0.013362</td>\n",
       "      <td>0.013362</td>\n",
       "    </tr>\n",
       "    <tr>\n",
       "      <th>5</th>\n",
       "      <td>masha</td>\n",
       "      <td>0.177987</td>\n",
       "      <td>0.177987</td>\n",
       "    </tr>\n",
       "    <tr>\n",
       "      <th>6</th>\n",
       "      <td>and</td>\n",
       "      <td>0.344200</td>\n",
       "      <td>0.344200</td>\n",
       "    </tr>\n",
       "    <tr>\n",
       "      <th>7</th>\n",
       "      <td>way</td>\n",
       "      <td>0.188150</td>\n",
       "      <td>0.188150</td>\n",
       "    </tr>\n",
       "    <tr>\n",
       "      <th>8</th>\n",
       "      <td>lol</td>\n",
       "      <td>0.366727</td>\n",
       "      <td>0.366727</td>\n",
       "    </tr>\n",
       "    <tr>\n",
       "      <th>9</th>\n",
       "      <td>killjoy</td>\n",
       "      <td>0.111065</td>\n",
       "      <td>0.111065</td>\n",
       "    </tr>\n",
       "  </tbody>\n",
       "</table>\n",
       "</div>"
      ],
      "text/plain": [
       "   feature    weight  abs_weight\n",
       "0   styles  0.447706    0.447706\n",
       "1     olga  0.438249    0.438249\n",
       "2       na  0.547345    0.547345\n",
       "3    green -0.432102    0.432102\n",
       "4  sobchak  0.013362    0.013362\n",
       "5    masha  0.177987    0.177987\n",
       "6      and  0.344200    0.344200\n",
       "7      way  0.188150    0.188150\n",
       "8      lol  0.366727    0.366727\n",
       "9  killjoy  0.111065    0.111065"
      ]
     },
     "execution_count": 32,
     "metadata": {},
     "output_type": "execute_result"
    }
   ],
   "source": [
    "print('Признаки с наибольшей значимостью')\n",
    "df_feature_importance.head(10)"
   ]
  },
  {
   "cell_type": "code",
   "execution_count": 33,
   "id": "1ed6492b-b2ed-4210-97de-05988347313f",
   "metadata": {},
   "outputs": [
    {
     "data": {
      "text/plain": [
       "6569"
      ]
     },
     "execution_count": 33,
     "metadata": {},
     "output_type": "execute_result"
    }
   ],
   "source": [
    "words_with_normal_freq = [word for word, freq in freq_dict_sorted if freq > 5]\n",
    "len(words_with_normal_freq)"
   ]
  },
  {
   "cell_type": "code",
   "execution_count": 34,
   "id": "e0f6d090-305b-483c-b6a4-df7fa16818ca",
   "metadata": {},
   "outputs": [],
   "source": [
    "count_vectorizer = CountVectorizer(vocabulary = words_with_normal_freq)\n",
    "x_train_count = count_vectorizer.fit_transform(x_train.values)\n",
    "x_test_count = count_vectorizer.transform(x_test.values)\n",
    "classifier_count_vect = LogisticRegression(solver='lbfgs', max_iter=1000)\n",
    "classifier_count_vect.fit(x_train_count, y_train)\n",
    "predictions_train_count = classifier_count_vect.predict(x_train_count)\n",
    "predictions_test_count = classifier_count_vect.predict(x_test_count)"
   ]
  },
  {
   "cell_type": "code",
   "execution_count": 35,
   "id": "a8d3ca8a-e5a5-4861-b3e1-c20ab76f3d86",
   "metadata": {},
   "outputs": [
    {
     "name": "stdout",
     "output_type": "stream",
     "text": [
      "              precision    recall  f1-score   support\n",
      "\n",
      "           0       0.78      0.59      0.67    110919\n",
      "           1       0.47      0.69      0.56     59206\n",
      "\n",
      "    accuracy                           0.62    170125\n",
      "   macro avg       0.62      0.64      0.61    170125\n",
      "weighted avg       0.67      0.62      0.63    170125\n",
      "\n"
     ]
    }
   ],
   "source": [
    "print(classification_report(predictions_train_count, y_train))"
   ]
  },
  {
   "cell_type": "code",
   "execution_count": 36,
   "id": "7e60d379-0ee6-4f50-b5a7-e4ae88518f10",
   "metadata": {},
   "outputs": [
    {
     "name": "stdout",
     "output_type": "stream",
     "text": [
      "              precision    recall  f1-score   support\n",
      "\n",
      "           0       0.76      0.57      0.65     37176\n",
      "           1       0.45      0.66      0.53     19533\n",
      "\n",
      "    accuracy                           0.60     56709\n",
      "   macro avg       0.60      0.61      0.59     56709\n",
      "weighted avg       0.65      0.60      0.61     56709\n",
      "\n"
     ]
    }
   ],
   "source": [
    "print(classification_report(predictions_test_count, y_test))"
   ]
  },
  {
   "cell_type": "code",
   "execution_count": 37,
   "id": "58829c62-b3ec-43cd-95c9-66b44af68a24",
   "metadata": {},
   "outputs": [],
   "source": [
    "tfidf_vectorizer = TfidfVectorizer(vocabulary = words_with_normal_freq)\n",
    "x_train_tfidf = tfidf_vectorizer.fit_transform(x_train.values)\n",
    "x_test_tfidf = tfidf_vectorizer.transform(x_test.values)\n",
    "classifier_tfidf_vect = LogisticRegression(solver='lbfgs', max_iter=1000)\n",
    "classifier_tfidf_vect.fit(x_train_tfidf, y_train)\n",
    "predictions_train_tfidf = classifier_tfidf_vect.predict(x_train_tfidf)\n",
    "predictions_test_tfidf = classifier_tfidf_vect.predict(x_test_tfidf)"
   ]
  },
  {
   "cell_type": "code",
   "execution_count": 38,
   "id": "98821c21-bf62-4dda-8190-0e4f30c775ca",
   "metadata": {},
   "outputs": [
    {
     "name": "stdout",
     "output_type": "stream",
     "text": [
      "              precision    recall  f1-score   support\n",
      "\n",
      "           0       0.77      0.59      0.67    110178\n",
      "           1       0.48      0.68      0.56     59947\n",
      "\n",
      "    accuracy                           0.62    170125\n",
      "   macro avg       0.63      0.64      0.62    170125\n",
      "weighted avg       0.67      0.62      0.63    170125\n",
      "\n"
     ]
    }
   ],
   "source": [
    "print(classification_report(predictions_train_tfidf, y_train))\n"
   ]
  },
  {
   "cell_type": "code",
   "execution_count": 39,
   "id": "229030a1-cd01-4d1d-af63-41ee0c2ef05f",
   "metadata": {},
   "outputs": [
    {
     "name": "stdout",
     "output_type": "stream",
     "text": [
      "              precision    recall  f1-score   support\n",
      "\n",
      "           0       0.76      0.57      0.65     36892\n",
      "           1       0.45      0.65      0.53     19817\n",
      "\n",
      "    accuracy                           0.60     56709\n",
      "   macro avg       0.60      0.61      0.59     56709\n",
      "weighted avg       0.65      0.60      0.61     56709\n",
      "\n"
     ]
    }
   ],
   "source": [
    "print(classification_report(predictions_test_tfidf, y_test))"
   ]
  },
  {
   "cell_type": "code",
   "execution_count": 40,
   "id": "b74f367d-37d3-4415-8a32-cf052ebe5b7e",
   "metadata": {},
   "outputs": [],
   "source": [
    "n_features_for_hash = [2 ** i for i in range(18)]\n"
   ]
  },
  {
   "cell_type": "code",
   "execution_count": 41,
   "id": "a870066d-1209-44cb-8f9d-0674b75c7ef9",
   "metadata": {},
   "outputs": [
    {
     "name": "stdout",
     "output_type": "stream",
     "text": [
      "n_features = 1\n",
      "              precision    recall  f1-score   support\n",
      "\n",
      "           0       0.20      0.43      0.27     13113\n",
      "           1       0.74      0.49      0.59     43596\n",
      "\n",
      "    accuracy                           0.47     56709\n",
      "   macro avg       0.47      0.46      0.43     56709\n",
      "weighted avg       0.61      0.47      0.51     56709\n",
      "\n",
      "\n",
      "n_features = 2\n",
      "              precision    recall  f1-score   support\n",
      "\n",
      "           0       0.69      0.55      0.61     35404\n",
      "           1       0.44      0.59      0.51     21305\n",
      "\n",
      "    accuracy                           0.56     56709\n",
      "   macro avg       0.57      0.57      0.56     56709\n",
      "weighted avg       0.60      0.56      0.57     56709\n",
      "\n",
      "\n",
      "n_features = 4\n",
      "              precision    recall  f1-score   support\n",
      "\n",
      "           0       0.67      0.55      0.60     34341\n",
      "           1       0.46      0.59      0.52     22368\n",
      "\n",
      "    accuracy                           0.57     56709\n",
      "   macro avg       0.57      0.57      0.56     56709\n",
      "weighted avg       0.59      0.57      0.57     56709\n",
      "\n",
      "\n",
      "n_features = 8\n",
      "              precision    recall  f1-score   support\n",
      "\n",
      "           0       0.73      0.54      0.62     38035\n",
      "           1       0.39      0.60      0.47     18674\n",
      "\n",
      "    accuracy                           0.56     56709\n",
      "   macro avg       0.56      0.57      0.55     56709\n",
      "weighted avg       0.62      0.56      0.57     56709\n",
      "\n",
      "\n",
      "n_features = 16\n",
      "              precision    recall  f1-score   support\n",
      "\n",
      "           0       0.75      0.54      0.62     38746\n",
      "           1       0.38      0.60      0.46     17963\n",
      "\n",
      "    accuracy                           0.56     56709\n",
      "   macro avg       0.56      0.57      0.54     56709\n",
      "weighted avg       0.63      0.56      0.57     56709\n",
      "\n",
      "\n",
      "n_features = 32\n",
      "              precision    recall  f1-score   support\n",
      "\n",
      "           0       0.75      0.54      0.63     38600\n",
      "           1       0.38      0.61      0.47     18109\n",
      "\n",
      "    accuracy                           0.56     56709\n",
      "   macro avg       0.57      0.58      0.55     56709\n",
      "weighted avg       0.63      0.56      0.58     56709\n",
      "\n",
      "\n",
      "n_features = 64\n",
      "              precision    recall  f1-score   support\n",
      "\n",
      "           0       0.74      0.54      0.63     38357\n",
      "           1       0.39      0.61      0.48     18352\n",
      "\n",
      "    accuracy                           0.57     56709\n",
      "   macro avg       0.57      0.58      0.55     56709\n",
      "weighted avg       0.63      0.57      0.58     56709\n",
      "\n",
      "\n",
      "n_features = 128\n",
      "              precision    recall  f1-score   support\n",
      "\n",
      "           0       0.74      0.55      0.63     38039\n",
      "           1       0.40      0.62      0.48     18670\n",
      "\n",
      "    accuracy                           0.57     56709\n",
      "   macro avg       0.57      0.58      0.56     56709\n",
      "weighted avg       0.63      0.57      0.58     56709\n",
      "\n",
      "\n",
      "n_features = 256\n",
      "              precision    recall  f1-score   support\n",
      "\n",
      "           0       0.73      0.55      0.63     37274\n",
      "           1       0.42      0.62      0.50     19435\n",
      "\n",
      "    accuracy                           0.57     56709\n",
      "   macro avg       0.58      0.58      0.56     56709\n",
      "weighted avg       0.62      0.57      0.58     56709\n",
      "\n",
      "\n",
      "n_features = 512\n",
      "              precision    recall  f1-score   support\n",
      "\n",
      "           0       0.73      0.55      0.63     36654\n",
      "           1       0.43      0.62      0.51     20055\n",
      "\n",
      "    accuracy                           0.58     56709\n",
      "   macro avg       0.58      0.59      0.57     56709\n",
      "weighted avg       0.62      0.58      0.59     56709\n",
      "\n",
      "\n",
      "n_features = 1024\n",
      "              precision    recall  f1-score   support\n",
      "\n",
      "           0       0.72      0.56      0.63     36336\n",
      "           1       0.44      0.62      0.51     20373\n",
      "\n",
      "    accuracy                           0.58     56709\n",
      "   macro avg       0.58      0.59      0.57     56709\n",
      "weighted avg       0.62      0.58      0.59     56709\n",
      "\n",
      "\n",
      "n_features = 2048\n",
      "              precision    recall  f1-score   support\n",
      "\n",
      "           0       0.72      0.56      0.63     35941\n",
      "           1       0.45      0.62      0.52     20768\n",
      "\n",
      "    accuracy                           0.58     56709\n",
      "   macro avg       0.59      0.59      0.58     56709\n",
      "weighted avg       0.62      0.58      0.59     56709\n",
      "\n",
      "\n",
      "n_features = 4096\n",
      "              precision    recall  f1-score   support\n",
      "\n",
      "           0       0.72      0.57      0.63     35465\n",
      "           1       0.47      0.63      0.54     21244\n",
      "\n",
      "    accuracy                           0.59     56709\n",
      "   macro avg       0.59      0.60      0.59     56709\n",
      "weighted avg       0.62      0.59      0.60     56709\n",
      "\n",
      "\n",
      "n_features = 8192\n",
      "              precision    recall  f1-score   support\n",
      "\n",
      "           0       0.72      0.57      0.64     35310\n",
      "           1       0.47      0.64      0.54     21399\n",
      "\n",
      "    accuracy                           0.60     56709\n",
      "   macro avg       0.60      0.60      0.59     56709\n",
      "weighted avg       0.63      0.60      0.60     56709\n",
      "\n",
      "\n",
      "n_features = 16384\n",
      "              precision    recall  f1-score   support\n",
      "\n",
      "           0       0.73      0.58      0.64     35381\n",
      "           1       0.48      0.64      0.55     21328\n",
      "\n",
      "    accuracy                           0.60     56709\n",
      "   macro avg       0.60      0.61      0.60     56709\n",
      "weighted avg       0.63      0.60      0.61     56709\n",
      "\n",
      "\n",
      "n_features = 32768\n",
      "              precision    recall  f1-score   support\n",
      "\n",
      "           0       0.73      0.58      0.65     35409\n",
      "           1       0.48      0.65      0.55     21300\n",
      "\n",
      "    accuracy                           0.61     56709\n",
      "   macro avg       0.61      0.62      0.60     56709\n",
      "weighted avg       0.64      0.61      0.61     56709\n",
      "\n",
      "\n",
      "n_features = 65536\n",
      "              precision    recall  f1-score   support\n",
      "\n",
      "           0       0.74      0.58      0.65     35551\n",
      "           1       0.48      0.66      0.56     21158\n",
      "\n",
      "    accuracy                           0.61     56709\n",
      "   macro avg       0.61      0.62      0.60     56709\n",
      "weighted avg       0.64      0.61      0.62     56709\n",
      "\n",
      "\n",
      "n_features = 131072\n",
      "              precision    recall  f1-score   support\n",
      "\n",
      "           0       0.74      0.58      0.65     35615\n",
      "           1       0.49      0.66      0.56     21094\n",
      "\n",
      "    accuracy                           0.61     56709\n",
      "   macro avg       0.61      0.62      0.61     56709\n",
      "weighted avg       0.65      0.61      0.62     56709\n",
      "\n",
      "\n"
     ]
    }
   ],
   "source": [
    "for numb in n_features_for_hash:\n",
    "    print('n_features =', numb)\n",
    "    hash_vectorizer = HashingVectorizer(n_features=numb)\n",
    "    x_train_hash = hash_vectorizer.fit_transform(x_train.values)\n",
    "    x_test_hash = hash_vectorizer.transform(x_test.values)\n",
    "    classifier_hash_vect = LogisticRegression(solver='lbfgs', max_iter=1000)\n",
    "    classifier_hash_vect.fit(x_train_hash, y_train)\n",
    "    predictions_train_hash = classifier_hash_vect.predict(x_train_hash)\n",
    "    predictions_test_hash = classifier_hash_vect.predict(x_test_hash)\n",
    "    print(classification_report(predictions_test_hash, y_test))\n",
    "    print()"
   ]
  },
  {
   "cell_type": "code",
   "execution_count": 42,
   "id": "74eb8245-e0ba-4d04-84e6-d961532bf77f",
   "metadata": {},
   "outputs": [],
   "source": [
    "from nltk.tokenize import WordPunctTokenizer"
   ]
  },
  {
   "cell_type": "code",
   "execution_count": 43,
   "id": "f7c7dff4-f817-4fcf-bd2b-740ace0dc651",
   "metadata": {},
   "outputs": [],
   "source": [
    "tokenizer = WordPunctTokenizer()"
   ]
  },
  {
   "cell_type": "code",
   "execution_count": 44,
   "id": "4ff73728-e459-4f99-b163-c11665f716a4",
   "metadata": {},
   "outputs": [],
   "source": [
    "train_corpus = \" \".join(x_train.values)\n",
    "train_corpus = train_corpus.lower()\n",
    "tokens = word_tokenize(train_corpus)"
   ]
  },
  {
   "cell_type": "code",
   "execution_count": 45,
   "id": "938ca96b-d5bd-4277-a3d9-bb052f4ef00d",
   "metadata": {},
   "outputs": [],
   "source": [
    "from collections import Counter"
   ]
  },
  {
   "cell_type": "code",
   "execution_count": 46,
   "id": "861bc853-1bc1-411b-a880-72a82b2688f8",
   "metadata": {},
   "outputs": [],
   "source": [
    "tokens_filtered = [word for word in tokens]"
   ]
  },
  {
   "cell_type": "code",
   "execution_count": 47,
   "id": "09d22a4f-5d77-4bba-950e-872c017c59a9",
   "metadata": {},
   "outputs": [],
   "source": [
    "index_count = 0\n",
    "vocabulary_inv = {}\n",
    "vocabulary = {}\n",
    "for key in dict(Counter(tokens_filtered).most_common(3000)).keys():\n",
    "  vocabulary_inv[index_count] = key\n",
    "  vocabulary[key] = index_count\n",
    "  index_count += 1"
   ]
  },
  {
   "cell_type": "code",
   "execution_count": 48,
   "id": "50eeacb7-cda0-43d7-81c5-5d8ac6583ed2",
   "metadata": {},
   "outputs": [],
   "source": [
    "import numpy as np\n",
    "def text_to_sequence(text, maxlen):\n",
    "    result = []\n",
    "    tokens = word_tokenize(text.lower())\n",
    "    tokens_filtered = [word for word in tokens if word.isalnum()]\n",
    "    for word in tokens_filtered:\n",
    "        if word in vocabulary:\n",
    "            result.append(vocabulary[word])\n",
    "    padding = [0]*(maxlen-len(result))\n",
    "    return padding + result[-maxlen:]"
   ]
  },
  {
   "cell_type": "code",
   "execution_count": 49,
   "id": "b8c92e8a-8e3b-438f-b13d-d6c39d96ae3a",
   "metadata": {},
   "outputs": [],
   "source": [
    "max_len = len(vocabulary)"
   ]
  },
  {
   "cell_type": "code",
   "execution_count": 52,
   "id": "a5c848e6-426b-4506-9bc4-ce684143a9c2",
   "metadata": {},
   "outputs": [
    {
     "name": "stderr",
     "output_type": "stream",
     "text": [
      "100%|████████████████████████████████████████████████████████████████████████████████| 170125/170125 [00:22<00:00, 7598.54it/s]\n",
      "100%|██████████████████████████████████████████████████████████████████████████████████| 56709/56709 [00:06<00:00, 8490.63it/s]\n"
     ]
    }
   ],
   "source": [
    "x_train_for_nn = np.array([text_to_sequence(text, max_len) for text in tqdm(x_train.values)], dtype=np.int32)\n",
    "x_test_for_nn = np.array([text_to_sequence(text, max_len) for text in tqdm(x_test.values)], dtype=np.int32)"
   ]
  },
  {
   "cell_type": "code",
   "execution_count": 54,
   "id": "5a35a650-aeb4-494e-b2fa-863b549bfa24",
   "metadata": {},
   "outputs": [],
   "source": [
    "import random\n",
    "import torch\n",
    "import torch.nn as nn\n",
    "\n",
    "seed = 0\n",
    "\n",
    "random.seed(seed)\n",
    "np.random.seed(seed)\n",
    "torch.manual_seed(seed)\n",
    "torch.cuda.manual_seed(seed)\n",
    "torch.backends.cudnn.deterministic = True"
   ]
  },
  {
   "cell_type": "code",
   "execution_count": 55,
   "id": "112289e3-78c4-43a8-81b0-622d4e35f3a8",
   "metadata": {},
   "outputs": [
    {
     "data": {
      "text/plain": [
       "'cuda'"
      ]
     },
     "execution_count": 55,
     "metadata": {},
     "output_type": "execute_result"
    }
   ],
   "source": [
    "device = 'cuda' if torch.cuda.is_available() else 'cpu'\n",
    "device"
   ]
  },
  {
   "cell_type": "code",
   "execution_count": 56,
   "id": "c2056fee-a21b-4c57-a2e0-597146a881f2",
   "metadata": {},
   "outputs": [],
   "source": [
    "class Net(nn.Module):\n",
    "    def __init__(self, vocab_size=3000, embedding_dim = 256, out_channel = 128, num_classes = 1):\n",
    "        super().__init__()\n",
    "        self.embedding = nn.Embedding(vocab_size, embedding_dim)\n",
    "        self.conv = nn.Conv1d(embedding_dim, out_channel, kernel_size=3)\n",
    "        self.relu = nn.ReLU()\n",
    "        self.linear = nn.Linear(out_channel, num_classes)\n",
    "        \n",
    "    def forward(self, x):        \n",
    "        output = self.embedding(x)\n",
    "        #                       B  F  L         \n",
    "        output = output.permute(0, 2, 1)\n",
    "        output = self.conv(output)\n",
    "        output = self.relu(output)\n",
    "        output = torch.max(output, axis=2).values\n",
    "        output = self.linear(output)\n",
    "        \n",
    "        return output"
   ]
  },
  {
   "cell_type": "code",
   "execution_count": 57,
   "id": "d6c988c6-7c80-4596-9e2e-e9b6cebe04b8",
   "metadata": {},
   "outputs": [],
   "source": [
    "from torch.utils.data import DataLoader, Dataset\n",
    "\n",
    "class DataWrapper(Dataset):\n",
    "    def __init__(self, data, target=None, transform=None):\n",
    "        self.data = torch.from_numpy(data).long()\n",
    "        if target is not None:\n",
    "            self.target = torch.from_numpy(target).long()\n",
    "        self.transform = transform\n",
    "        \n",
    "    def __getitem__(self, index):\n",
    "        x = self.data[index]\n",
    "        y = self.target[index] if self.target is not None else None\n",
    "        \n",
    "        if self.transform:\n",
    "            x = self.transform(x)\n",
    "            \n",
    "        return x, y\n",
    "    \n",
    "    def __len__(self):\n",
    "        return len(self.data)"
   ]
  },
  {
   "cell_type": "code",
   "execution_count": null,
   "id": "6dda7a7d-5850-430d-8fa5-2613453d3bc6",
   "metadata": {},
   "outputs": [
    {
     "name": "stdout",
     "output_type": "stream",
     "text": [
      "DataParallel(\n",
      "  (module): Net(\n",
      "    (embedding): Embedding(3000, 256)\n",
      "    (conv): Conv1d(256, 128, kernel_size=(3,), stride=(1,))\n",
      "    (relu): ReLU()\n",
      "    (linear): Linear(in_features=128, out_features=1, bias=True)\n",
      "  )\n",
      ")\n",
      "Parameters: 866561\n",
      "Train epoch 1/20\n",
      "Step 0: loss=0.6887925863265991\n",
      "Step 400: loss=0.6504269242286682\n"
     ]
    }
   ],
   "source": [
    "batch_size = 128\n",
    "max_words = 1000\n",
    "epochs = 20\n",
    "\n",
    "model = Net(vocab_size=len(vocabulary)).to(device)\n",
    "\n",
    "model = model.cuda()\n",
    "model= nn.DataParallel(model)\n",
    "model.to(device)\n",
    "\n",
    "print(model)\n",
    "print(\"Parameters:\", sum([param.nelement() for param in model.parameters()]))\n",
    "\n",
    "\n",
    "model.train()\n",
    "#model = model.cuda()\n",
    "\n",
    "\n",
    "\n",
    "optimizer = torch.optim.Adam(model.parameters(), lr=10e-3)\n",
    "criterion = nn.BCEWithLogitsLoss()\n",
    "    \n",
    "train_dataset = DataWrapper(x_train_for_nn, np.array(y_train))\n",
    "train_loader = DataLoader(train_dataset, batch_size=batch_size, shuffle=True)\n",
    "\n",
    "loss_history = []\n",
    "\n",
    "for epoch in range(1, epochs + 1):\n",
    "    print(f\"Train epoch {epoch}/{epochs}\")\n",
    "    for i, (data, target) in enumerate(train_loader):\n",
    "        data = data.to(device)\n",
    "        target = target.to(device)\n",
    "        optimizer.zero_grad()\n",
    "        \n",
    "        data = data.cuda()\n",
    "        target = target.cuda()\n",
    "        \n",
    "        # compute output\n",
    "        output = model(data)\n",
    "        \n",
    "        # compute gradient and do SGD step\n",
    "        loss = criterion(output, target.float().view(-1, 1))\n",
    "        loss.backward()\n",
    "        \n",
    "        optimizer.step()\n",
    "        \n",
    "        if i%400 == 0:\n",
    "            loss = loss.float().item()\n",
    "            print(\"Step {}: loss={}\".format(i, loss))\n",
    "            loss_history.append(loss)"
   ]
  },
  {
   "cell_type": "code",
   "execution_count": 62,
   "id": "301fe394-17b9-431b-a3c6-3ae447dcb3de",
   "metadata": {},
   "outputs": [],
   "source": [
    "test_dataset = DataWrapper(x_test_for_nn, np.array(y_test))\n",
    "test_loader = DataLoader(test_dataset, batch_size=batch_size, shuffle=True)"
   ]
  },
  {
   "cell_type": "code",
   "execution_count": 66,
   "id": "93475efd-a824-4098-aa0a-b8d2b550ad60",
   "metadata": {},
   "outputs": [
    {
     "name": "stdout",
     "output_type": "stream",
     "text": [
      "              precision    recall  f1-score   support\n",
      "\n",
      "           0       1.00      0.45      0.62       128\n",
      "           1       0.00      0.00      0.00         0\n",
      "\n",
      "    accuracy                           0.45       128\n",
      "   macro avg       0.50      0.23      0.31       128\n",
      "weighted avg       1.00      0.45      0.62       128\n",
      "\n"
     ]
    },
    {
     "name": "stderr",
     "output_type": "stream",
     "text": [
      "C:\\Users\\shpri\\miniconda3\\envs\\gbenv\\Lib\\site-packages\\sklearn\\metrics\\_classification.py:1531: UndefinedMetricWarning: Recall is ill-defined and being set to 0.0 in labels with no true samples. Use `zero_division` parameter to control this behavior.\n",
      "  _warn_prf(average, modifier, f\"{metric.capitalize()} is\", len(result))\n",
      "C:\\Users\\shpri\\miniconda3\\envs\\gbenv\\Lib\\site-packages\\sklearn\\metrics\\_classification.py:1531: UndefinedMetricWarning: Recall is ill-defined and being set to 0.0 in labels with no true samples. Use `zero_division` parameter to control this behavior.\n",
      "  _warn_prf(average, modifier, f\"{metric.capitalize()} is\", len(result))\n",
      "C:\\Users\\shpri\\miniconda3\\envs\\gbenv\\Lib\\site-packages\\sklearn\\metrics\\_classification.py:1531: UndefinedMetricWarning: Recall is ill-defined and being set to 0.0 in labels with no true samples. Use `zero_division` parameter to control this behavior.\n",
      "  _warn_prf(average, modifier, f\"{metric.capitalize()} is\", len(result))\n"
     ]
    }
   ],
   "source": [
    "model.eval()\n",
    "list_accuracy = []\n",
    "for data in test_loader:\n",
    "  test_outputs = model(data[0].to(device))\n",
    "  label = data[1].to(device)\n",
    "  predict = torch.max(test_outputs, 1)[1]\n",
    "  break\n",
    "print(classification_report(predict.cpu(), label.cpu()))"
   ]
  },
  {
   "cell_type": "code",
   "execution_count": 67,
   "id": "5b4bf57a-179a-4f4a-abb3-ac61222c17e6",
   "metadata": {},
   "outputs": [
    {
     "name": "stderr",
     "output_type": "stream",
     "text": [
      "C:\\Users\\shpri\\miniconda3\\envs\\gbenv\\Lib\\site-packages\\torch\\nn\\parallel\\parallel_apply.py:79: FutureWarning: `torch.cuda.amp.autocast(args...)` is deprecated. Please use `torch.amp.autocast('cuda', args...)` instead.\n",
      "  with torch.cuda.device(device), torch.cuda.stream(stream), autocast(enabled=autocast_enabled):\n"
     ]
    },
    {
     "data": {
      "text/plain": [
       "0.4940773"
      ]
     },
     "execution_count": 67,
     "metadata": {},
     "output_type": "execute_result"
    }
   ],
   "source": [
    "list_accuracy = []\n",
    "for data in test_loader:\n",
    "  test_outputs = model(data[0].to(device))\n",
    "  label = data[1].to(device)\n",
    "  predict = torch.max(test_outputs, 1)[1]\n",
    "  list_accuracy.append((predict == label).sum()/predict.shape[0])\n",
    "np.mean([elem.cpu() for elem in list_accuracy])"
   ]
  }
 ],
 "metadata": {
  "kernelspec": {
   "display_name": "Python (gbenv)",
   "language": "python",
   "name": "gbenv"
  },
  "language_info": {
   "codemirror_mode": {
    "name": "ipython",
    "version": 3
   },
   "file_extension": ".py",
   "mimetype": "text/x-python",
   "name": "python",
   "nbconvert_exporter": "python",
   "pygments_lexer": "ipython3",
   "version": "3.11.9"
  }
 },
 "nbformat": 4,
 "nbformat_minor": 5
}
