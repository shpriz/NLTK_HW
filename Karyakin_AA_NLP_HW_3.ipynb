{
 "cells": [
  {
   "cell_type": "code",
   "execution_count": 112,
   "id": "1f172e5d-41f8-4de7-a393-2cd98af2d3ef",
   "metadata": {},
   "outputs": [
    {
     "name": "stdout",
     "output_type": "stream",
     "text": [
      "Looking in indexes: https://pypi.org/simple, https://pypi.ngc.nvidia.com\n",
      "Requirement already satisfied: nltk in c:\\users\\shpri\\miniconda3\\envs\\envsgb39\\lib\\site-packages (3.8.2)\n",
      "Requirement already satisfied: click in c:\\users\\shpri\\miniconda3\\envs\\envsgb39\\lib\\site-packages (from nltk) (8.1.7)\n",
      "Requirement already satisfied: joblib in c:\\users\\shpri\\miniconda3\\envs\\envsgb39\\lib\\site-packages (from nltk) (1.4.2)\n",
      "Requirement already satisfied: regex>=2021.8.3 in c:\\users\\shpri\\miniconda3\\envs\\envsgb39\\lib\\site-packages (from nltk) (2024.7.24)\n",
      "Requirement already satisfied: tqdm in c:\\users\\shpri\\miniconda3\\envs\\envsgb39\\lib\\site-packages (from nltk) (4.66.5)\n",
      "Requirement already satisfied: colorama in c:\\users\\shpri\\miniconda3\\envs\\envsgb39\\lib\\site-packages (from click->nltk) (0.4.6)\n"
     ]
    }
   ],
   "source": [
    "# !pip install nltk\n"
   ]
  },
  {
   "cell_type": "code",
   "execution_count": 113,
   "id": "92991da6-a396-4a42-b1dc-c8ef42f770a5",
   "metadata": {},
   "outputs": [
    {
     "name": "stderr",
     "output_type": "stream",
     "text": [
      "[nltk_data] Downloading package punkt to\n",
      "[nltk_data]     C:\\Users\\shpri\\AppData\\Roaming\\nltk_data...\n",
      "[nltk_data]   Package punkt is already up-to-date!\n"
     ]
    },
    {
     "data": {
      "text/plain": [
       "True"
      ]
     },
     "execution_count": 113,
     "metadata": {},
     "output_type": "execute_result"
    }
   ],
   "source": [
    "import spacy\n",
    "import os\n",
    "import shutil\n",
    "# import cudf \n",
    "\n",
    "import pandas as pd\n",
    "import numpy as np\n",
    "import nltk\n",
    "import re\n",
    "from tqdm import tqdm\n",
    "from pymorphy2 import MorphAnalyzer\n",
    "from sklearn.feature_extraction import text as for_stop_word\n",
    "from sklearn.base import BaseEstimator, TransformerMixin\n",
    "# from cleantext import clean\n",
    "# import emoji\n",
    "from collections import Counter\n",
    "import pickle\n",
    "from multiprocessing import Pool, current_process, Queue\n",
    "import cupy as cp\n",
    "\n",
    "nltk.download('punkt')\n"
   ]
  },
  {
   "cell_type": "code",
   "execution_count": 114,
   "id": "d97b0b9d-9200-4464-8a5b-f51eefff5ad0",
   "metadata": {},
   "outputs": [],
   "source": [
    "def save_model_pkl(path, model_name):\n",
    "    with open(path, \"wb\") as mod:\n",
    "        pickle.dump(model_name, mod)\n",
    "\n",
    "\n",
    "def load_model_pkl(path):\n",
    "    with open(path, \"rb\") as mod1:\n",
    "        model_name = pickle.load(mod1)\n",
    "    return model_name"
   ]
  },
  {
   "cell_type": "code",
   "execution_count": 115,
   "id": "cefd6101-1dd1-4a9a-8cc7-1fd06bcd17d3",
   "metadata": {},
   "outputs": [],
   "source": [
    "pd.set_option('display.max_columns', None)\n",
    "pd.set_option('display.expand_frame_repr', None)\n",
    "pd.set_option('max_colwidth', 800)"
   ]
  },
  {
   "cell_type": "code",
   "execution_count": 116,
   "id": "a4913a26-f8e1-47ce-b3ba-be78adb87715",
   "metadata": {},
   "outputs": [],
   "source": [
    "with open('data/NLP_HW_1_results.pickle', 'rb') as f:\n",
    "        df = pickle.load(f, encoding='utf-8')"
   ]
  },
  {
   "cell_type": "code",
   "execution_count": 117,
   "id": "c2b16c69-135c-4fbd-a454-a38717e73b6e",
   "metadata": {},
   "outputs": [
    {
     "data": {
      "text/html": [
       "<div>\n",
       "<style scoped>\n",
       "    .dataframe tbody tr th:only-of-type {\n",
       "        vertical-align: middle;\n",
       "    }\n",
       "\n",
       "    .dataframe tbody tr th {\n",
       "        vertical-align: top;\n",
       "    }\n",
       "\n",
       "    .dataframe thead th {\n",
       "        text-align: right;\n",
       "    }\n",
       "</style>\n",
       "<table border=\"1\" class=\"dataframe\">\n",
       "  <thead>\n",
       "    <tr style=\"text-align: right;\">\n",
       "      <th></th>\n",
       "      <th>id</th>\n",
       "      <th>label</th>\n",
       "      <th>tweet</th>\n",
       "      <th>tweet_token</th>\n",
       "      <th>tweet_token_filtered</th>\n",
       "      <th>tweet_stemmed</th>\n",
       "      <th>tweet_lemmatized</th>\n",
       "    </tr>\n",
       "  </thead>\n",
       "  <tbody>\n",
       "    <tr>\n",
       "      <th>0</th>\n",
       "      <td>1</td>\n",
       "      <td>0.0</td>\n",
       "      <td>when father is dysfunctional and is so selfish he drags his kids into his dysfunction run</td>\n",
       "      <td>[when, father, is, dysfunctional, and, is, so, selfish, he, drags, his, kids, into, his, dysfunction, run]</td>\n",
       "      <td>father dysfunctional selfish drags kids dysfunction run</td>\n",
       "      <td>father dysfunct selfish drag kid dysfunct run</td>\n",
       "      <td>father dysfunctional selfish drag kid dysfunction run</td>\n",
       "    </tr>\n",
       "    <tr>\n",
       "      <th>1</th>\n",
       "      <td>2</td>\n",
       "      <td>0.0</td>\n",
       "      <td>thanks for lyft credit cannot use cause they do not offer wheelchair vans in pdx disapointed getthanked</td>\n",
       "      <td>[thanks, for, lyft, credit, can, not, use, cause, they, do, not, offer, wheelchair, vans, in, pdx, disapointed, getthanked]</td>\n",
       "      <td>thanks lyft credit use cause offer wheelchair vans pdx disapointed getthanked</td>\n",
       "      <td>thank lyft credit use caus offer wheelchair van pdx disapoint getthank</td>\n",
       "      <td>thanks lyft credit use cause offer wheelchair van pdx disapointed getthanked</td>\n",
       "    </tr>\n",
       "    <tr>\n",
       "      <th>2</th>\n",
       "      <td>3</td>\n",
       "      <td>0.0</td>\n",
       "      <td>bihday your majesty</td>\n",
       "      <td>[bihday, your, majesty]</td>\n",
       "      <td>bihday majesty</td>\n",
       "      <td>bihday majesti</td>\n",
       "      <td>bihday majesty</td>\n",
       "    </tr>\n",
       "    <tr>\n",
       "      <th>3</th>\n",
       "      <td>4</td>\n",
       "      <td>0.0</td>\n",
       "      <td>model love you take with you all the time in ur</td>\n",
       "      <td>[model, love, you, take, with, you, all, the, time, in, ur]</td>\n",
       "      <td>model love take time ur</td>\n",
       "      <td>model love take time ur</td>\n",
       "      <td>model love take time ur</td>\n",
       "    </tr>\n",
       "    <tr>\n",
       "      <th>4</th>\n",
       "      <td>5</td>\n",
       "      <td>0.0</td>\n",
       "      <td>factsguide society now motivation</td>\n",
       "      <td>[factsguide, society, now, motivation]</td>\n",
       "      <td>factsguide society motivation</td>\n",
       "      <td>factsguid societi motiv</td>\n",
       "      <td>factsguide society motivation</td>\n",
       "    </tr>\n",
       "  </tbody>\n",
       "</table>\n",
       "</div>"
      ],
      "text/plain": [
       "   id  label                                                                                                    tweet                                                                                                                  tweet_token                                                           tweet_token_filtered                                                           tweet_stemmed                                                              tweet_lemmatized\n",
       "0   1    0.0                when father is dysfunctional and is so selfish he drags his kids into his dysfunction run                   [when, father, is, dysfunctional, and, is, so, selfish, he, drags, his, kids, into, his, dysfunction, run]                        father dysfunctional selfish drags kids dysfunction run                           father dysfunct selfish drag kid dysfunct run                         father dysfunctional selfish drag kid dysfunction run\n",
       "1   2    0.0  thanks for lyft credit cannot use cause they do not offer wheelchair vans in pdx disapointed getthanked  [thanks, for, lyft, credit, can, not, use, cause, they, do, not, offer, wheelchair, vans, in, pdx, disapointed, getthanked]  thanks lyft credit use cause offer wheelchair vans pdx disapointed getthanked  thank lyft credit use caus offer wheelchair van pdx disapoint getthank  thanks lyft credit use cause offer wheelchair van pdx disapointed getthanked\n",
       "2   3    0.0                                                                                      bihday your majesty                                                                                                      [bihday, your, majesty]                                                                 bihday majesty                                                          bihday majesti                                                                bihday majesty\n",
       "3   4    0.0                                                          model love you take with you all the time in ur                                                                  [model, love, you, take, with, you, all, the, time, in, ur]                                                        model love take time ur                                                 model love take time ur                                                       model love take time ur\n",
       "4   5    0.0                                                                        factsguide society now motivation                                                                                       [factsguide, society, now, motivation]                                                  factsguide society motivation                                                 factsguid societi motiv                                                 factsguide society motivation"
      ]
     },
     "execution_count": 117,
     "metadata": {},
     "output_type": "execute_result"
    }
   ],
   "source": [
    "df.head()"
   ]
  },
  {
   "cell_type": "code",
   "execution_count": 118,
   "id": "78befdd4-ddbc-4abd-b62b-c94fb84016fd",
   "metadata": {},
   "outputs": [
    {
     "name": "stderr",
     "output_type": "stream",
     "text": [
      "ERROR: Could not install packages due to an OSError: [WinError 5] Отказано в доступе: 'C:\\\\Users\\\\shpri\\\\miniconda3\\\\envs\\\\envsgb39\\\\Lib\\\\site-packages\\\\cupy\\\\_util.cp39-win_amd64.pyd'\n",
      "Consider using the `--user` option or check the permissions.\n",
      "\n"
     ]
    }
   ],
   "source": [
    "# !pip install \"spacy[cuda11x]\" pygls>=1.0.0"
   ]
  },
  {
   "cell_type": "code",
   "execution_count": 126,
   "id": "4f1e139d-1039-47f8-860f-e010ff6afbac",
   "metadata": {},
   "outputs": [
    {
     "data": {
      "text/plain": [
       "True"
      ]
     },
     "execution_count": 126,
     "metadata": {},
     "output_type": "execute_result"
    }
   ],
   "source": [
    "import spacy\n",
    "from spacy import displacy\n",
    "spacy.prefer_gpu()"
   ]
  },
  {
   "cell_type": "code",
   "execution_count": 127,
   "id": "420e8b53-1d4b-40d7-9985-ca44cdb34af4",
   "metadata": {},
   "outputs": [],
   "source": [
    "# Load English tokenizer, tagger, parser and NER\n",
    "nlp = spacy.load(\"en_core_web_sm\")"
   ]
  },
  {
   "cell_type": "code",
   "execution_count": 128,
   "id": "a539a186-982d-4c3e-b101-2be1386333f5",
   "metadata": {},
   "outputs": [],
   "source": [
    "corpus = \" \".join(df['tweet_lemmatized'])\n",
    "corpus = corpus[:999999]"
   ]
  },
  {
   "cell_type": "code",
   "execution_count": 122,
   "id": "35327991-2035-4a75-92bf-ee546d32a178",
   "metadata": {},
   "outputs": [
    {
     "data": {
      "text/plain": [
       "'se claim right rough demo'"
      ]
     },
     "execution_count": 122,
     "metadata": {},
     "output_type": "execute_result"
    }
   ],
   "source": [
    "corpus[-25:]"
   ]
  },
  {
   "cell_type": "code",
   "execution_count": 129,
   "id": "57add47a-1169-4dea-af08-2449b62b7d05",
   "metadata": {},
   "outputs": [
    {
     "name": "stderr",
     "output_type": "stream",
     "text": [
      "  0%|                                                                                  | 0/145621 [03:54<?, ?it/s]\n"
     ]
    }
   ],
   "source": [
    "doc = nlp(corpus)"
   ]
  },
  {
   "cell_type": "code",
   "execution_count": null,
   "id": "651cb5b1-63b9-4888-bdbb-f1f45dab7493",
   "metadata": {},
   "outputs": [],
   "source": [
    "displacy.render(doc, style=\"ent\")"
   ]
  },
  {
   "cell_type": "code",
   "execution_count": 131,
   "id": "0932b823-3df3-4d2a-b979-2a99fdd509b7",
   "metadata": {},
   "outputs": [
    {
     "name": "stderr",
     "output_type": "stream",
     "text": [
      "100%|███████████████████████████████████████████████████████████████████| 11840/11840 [00:00<00:00, 910434.48it/s]\n"
     ]
    },
    {
     "data": {
      "text/plain": [
       "{'PERSON': 1833,\n",
       " 'ORG': 917,\n",
       " 'DATE': 4152,\n",
       " 'GPE': 1391,\n",
       " 'NORP': 594,\n",
       " 'CARDINAL': 1578,\n",
       " 'TIME': 721,\n",
       " 'ORDINAL': 377,\n",
       " 'LOC': 62,\n",
       " 'QUANTITY': 54,\n",
       " 'FAC': 38,\n",
       " 'PRODUCT': 74,\n",
       " 'WORK_OF_ART': 3,\n",
       " 'LAW': 4,\n",
       " 'MONEY': 12,\n",
       " 'PERCENT': 9,\n",
       " 'LANGUAGE': 13,\n",
       " 'EVENT': 8}"
      ]
     },
     "execution_count": 131,
     "metadata": {},
     "output_type": "execute_result"
    }
   ],
   "source": [
    "ents_dict = {}\n",
    "for entity in tqdm(doc.ents):\n",
    "    if entity.label_ in ents_dict:\n",
    "        ents_dict[entity.label_] += 1\n",
    "    else:\n",
    "        ents_dict[entity.label_] = 1\n",
    "\n",
    "ents_dict"
   ]
  },
  {
   "cell_type": "code",
   "execution_count": 132,
   "id": "3bf1f3bc-0056-47bd-9e5f-a14c9c6d12fb",
   "metadata": {},
   "outputs": [
    {
     "name": "stderr",
     "output_type": "stream",
     "text": [
      "100%|█████████████████████████████████████████████████████████████████| 145621/145621 [00:00<00:00, 927454.31it/s]\n"
     ]
    },
    {
     "data": {
      "text/plain": [
       "{'PROPN': 30990,\n",
       " 'NOUN': 55600,\n",
       " 'VERB': 23923,\n",
       " 'ADJ': 20256,\n",
       " 'ADV': 5112,\n",
       " 'AUX': 1455,\n",
       " 'ADP': 1585,\n",
       " 'INTJ': 1399,\n",
       " 'NUM': 2656,\n",
       " 'PRON': 1416,\n",
       " 'SCONJ': 375,\n",
       " 'DET': 345,\n",
       " 'PART': 266,\n",
       " 'PUNCT': 18,\n",
       " 'X': 142,\n",
       " 'CCONJ': 62,\n",
       " 'SPACE': 21}"
      ]
     },
     "execution_count": 132,
     "metadata": {},
     "output_type": "execute_result"
    }
   ],
   "source": [
    "token_dict = {}\n",
    "for token in tqdm(doc):\n",
    "    if token.pos_ in token_dict:\n",
    "        token_dict[token.pos_] += 1\n",
    "    else:\n",
    "        token_dict[token.pos_] = 1\n",
    "\n",
    "token_dict"
   ]
  },
  {
   "cell_type": "code",
   "execution_count": 133,
   "id": "bc61ebef-841a-4e6c-b1c9-bb68c6e4973a",
   "metadata": {},
   "outputs": [],
   "source": [
    "save_model_pkl(\"cpModel.pkl\", doc)"
   ]
  },
  {
   "cell_type": "code",
   "execution_count": 134,
   "id": "efee74c4-db5c-408d-aa03-b17c922201ad",
   "metadata": {},
   "outputs": [
    {
     "name": "stderr",
     "output_type": "stream",
     "text": [
      "[nltk_data] Downloading package averaged_perceptron_tagger to\n",
      "[nltk_data]     C:\\Users\\shpri\\AppData\\Roaming\\nltk_data...\n",
      "[nltk_data]   Package averaged_perceptron_tagger is already up-to-\n",
      "[nltk_data]       date!\n"
     ]
    },
    {
     "data": {
      "text/plain": [
       "True"
      ]
     },
     "execution_count": 134,
     "metadata": {},
     "output_type": "execute_result"
    }
   ],
   "source": [
    "nltk.download('averaged_perceptron_tagger')"
   ]
  },
  {
   "cell_type": "code",
   "execution_count": 135,
   "id": "544484fa-9bf5-4ef3-8d52-a27e3f7b309a",
   "metadata": {},
   "outputs": [
    {
     "name": "stderr",
     "output_type": "stream",
     "text": [
      "[nltk_data] Downloading package words to\n",
      "[nltk_data]     C:\\Users\\shpri\\AppData\\Roaming\\nltk_data...\n",
      "[nltk_data]   Package words is already up-to-date!\n"
     ]
    },
    {
     "data": {
      "text/plain": [
       "True"
      ]
     },
     "execution_count": 135,
     "metadata": {},
     "output_type": "execute_result"
    }
   ],
   "source": [
    "nltk.download('words')"
   ]
  },
  {
   "cell_type": "code",
   "execution_count": 136,
   "id": "2b779665-c289-4daf-8f6f-e79ce4be25a1",
   "metadata": {},
   "outputs": [
    {
     "name": "stderr",
     "output_type": "stream",
     "text": [
      "[nltk_data] Downloading package averaged_perceptron_tagger_eng to\n",
      "[nltk_data]     C:\\Users\\shpri\\AppData\\Roaming\\nltk_data...\n",
      "[nltk_data]   Package averaged_perceptron_tagger_eng is already up-to-\n",
      "[nltk_data]       date!\n",
      "[nltk_data] Downloading package maxent_ne_chunker_tab to\n",
      "[nltk_data]     C:\\Users\\shpri\\AppData\\Roaming\\nltk_data...\n",
      "[nltk_data]   Package maxent_ne_chunker_tab is already up-to-date!\n"
     ]
    },
    {
     "data": {
      "text/plain": [
       "True"
      ]
     },
     "execution_count": 136,
     "metadata": {},
     "output_type": "execute_result"
    }
   ],
   "source": [
    "nltk.download('averaged_perceptron_tagger_eng')\n",
    "nltk.download('maxent_ne_chunker_tab')"
   ]
  },
  {
   "cell_type": "code",
   "execution_count": null,
   "id": "dda9b76c-9796-44cd-86f4-d1d7655ffe31",
   "metadata": {},
   "outputs": [
    {
     "name": "stderr",
     "output_type": "stream",
     "text": [
      "  0%|                                                                                       | 0/1 [00:00<?, ?it/s]"
     ]
    }
   ],
   "source": [
    "chunk_corpus = []\n",
    "for sent in tqdm(nltk.sent_tokenize(corpus)):\n",
    "  for chunk in nltk.ne_chunk(nltk.pos_tag(nltk.word_tokenize(sent))):\n",
    "     if hasattr(chunk, 'PERSON'):\n",
    "        chunk_corpus.append((chunk.label(), ' '.join(c[0] for c in chunk)))"
   ]
  },
  {
   "cell_type": "code",
   "execution_count": null,
   "id": "280a55bb-7565-426a-9a68-e11f5cccf698",
   "metadata": {},
   "outputs": [],
   "source": [
    "chunk_corpus[:35]"
   ]
  },
  {
   "cell_type": "code",
   "execution_count": null,
   "id": "43f5da36-5dd7-420b-b601-bc047bb5e046",
   "metadata": {},
   "outputs": [],
   "source": [
    "chunk_dict = {}\n",
    "for chunk in tqdm(chunk_corpus):\n",
    "    if chunk[0] in chunk_dict:\n",
    "        chunk_dict[chunk[0]] += 1\n",
    "    else:\n",
    "        chunk_dict[chunk[0]] = 1\n",
    "\n",
    "chunk_dict"
   ]
  },
  {
   "cell_type": "code",
   "execution_count": null,
   "id": "b48836d2-2dcf-41a2-b041-70323669bb4a",
   "metadata": {},
   "outputs": [],
   "source": [
    "chunk_dict = {}\n",
    "for chunk in chunk_corpus:\n",
    "    if chunk[0] in chunk_dict:\n",
    "        chunk_dict[chunk[0]] += 1\n",
    "    else:\n",
    "        chunk_dict[chunk[0]] = 1\n",
    "\n",
    "chunk_dict"
   ]
  },
  {
   "cell_type": "code",
   "execution_count": null,
   "id": "f483ebe3-0aec-4259-95f0-cad3cc7bf2df",
   "metadata": {},
   "outputs": [],
   "source": [
    "# TOP-20 популярных личностей\n",
    "person_tokens_list = [(ent[0], ent[1]) for ent in chunk_corpus if ent[0] == 'PERSON']\n",
    "Counter(person_tokens_list).most_common(20)"
   ]
  },
  {
   "cell_type": "code",
   "execution_count": null,
   "id": "de0de7f1-a814-4afc-8c52-bc39ebddb9db",
   "metadata": {},
   "outputs": [],
   "source": [
    "# TOP-20 популярных организаций\n",
    "org_tokens_list = [(ent[0], ent[1]) for ent in chunk_corpus if ent[0] == 'ORGANIZATION']\n",
    "Counter(org_tokens_list).most_common(20)"
   ]
  }
 ],
 "metadata": {
  "kernelspec": {
   "display_name": "Python (gbenv)",
   "language": "python",
   "name": "envgb39"
  },
  "language_info": {
   "codemirror_mode": {
    "name": "ipython",
    "version": 3
   },
   "file_extension": ".py",
   "mimetype": "text/x-python",
   "name": "python",
   "nbconvert_exporter": "python",
   "pygments_lexer": "ipython3",
   "version": "3.9.19"
  }
 },
 "nbformat": 4,
 "nbformat_minor": 5
}
